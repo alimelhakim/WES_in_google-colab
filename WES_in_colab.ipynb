{
  "nbformat": 4,
  "nbformat_minor": 0,
  "metadata": {
    "colab": {
      "provenance": []
    },
    "kernelspec": {
      "name": "python3",
      "display_name": "Python 3"
    },
    "language_info": {
      "name": "python"
    }
  },
  "cells": [
    {
      "cell_type": "markdown",
      "source": [
        "**NGS Analysis Practice**"
      ],
      "metadata": {
        "id": "K-tlhHgnLn-3"
      }
    },
    {
      "cell_type": "code",
      "execution_count": null,
      "metadata": {
        "id": "dRxu_3kRA5gG"
      },
      "outputs": [],
      "source": [
        "from google.colab import drive\n",
        "drive.mount('/content/drive')\n",
        "tools_dir = \"/content/drive/MyDrive/ngs_practice/Tools\"\n",
        "data_dir = \"/content/drive/MyDrive/ngs_practice/Data\""
      ]
    },
    {
      "cell_type": "code",
      "source": [
        "!wget -O \"{tools_dir}/fastqc.zip\" https://www.bioinformatics.babraham.ac.uk/projects/fastqc/fastqc_v0.11.9.zip\n",
        "!unzip \"{tools_dir}/fastqc.zip\" -d \"{tools_dir}\"\n",
        "!chmod +x \"{tools_dir}/FastQC/fastqc\"\n",
        "!\"{tools_dir}/FastQC/fastqc\" -help"
      ],
      "metadata": {
        "collapsed": true,
        "id": "0kECKGUUXce8"
      },
      "execution_count": null,
      "outputs": []
    },
    {
      "cell_type": "code",
      "source": [
        "!mkdir \"{tools_dir}/fastp\"\n",
        "!wget -O \"{tools_dir}/fastp/fastp\" http://opengene.org/fastp/fastp\n",
        "!chmod a+x \"{tools_dir}/fastp/fastp\"\n",
        "!\"{tools_dir}/fastp/fastp\""
      ],
      "metadata": {
        "id": "xRSyEW7qAHPF",
        "collapsed": true
      },
      "execution_count": null,
      "outputs": []
    },
    {
      "cell_type": "code",
      "source": [
        "!wget -O - \"http://sourceforge.net/projects/bio-bwa/files/bwakit/bwakit-0.7.12_x64-linux.tar.bz2/download\" \\\n",
        "| tar -xj -C \"{tools_dir}\"\n",
        "!\"{tools_dir}/bwa.kit/run-bwamem\""
      ],
      "metadata": {
        "collapsed": true,
        "id": "A-e4yw8ShDD3"
      },
      "execution_count": null,
      "outputs": []
    },
    {
      "cell_type": "code",
      "source": [
        "!wget -O \"{tools_dir}/samtools-new.tar.bz2\" https://github.com/samtools/samtools/releases/download/1.22/samtools-1.22.tar.bz2\n",
        "!tar -xvjf \"{tools_dir}/samtools-new.tar.bz2\" -C \"{tools_dir}\"\n",
        "%cd \"{tools_dir}/samtools-1.22\"\n",
        "!./configure --prefix=\"{tools_dir}/samtools-1.22\"\n",
        "!make\n",
        "!make install\n",
        "%cd\n",
        "!\"{tools_dir}/samtools-1.22/bin/samtools\""
      ],
      "metadata": {
        "id": "7iO5m6uBpeGg",
        "collapsed": true
      },
      "execution_count": null,
      "outputs": []
    },
    {
      "cell_type": "code",
      "source": [
        "!apt-get update\n",
        "!apt-get install openjdk-17-jdk -y\n",
        "import os\n",
        "os.environ[\"JAVA_HOME\"] = \"/usr/lib/jvm/java-17-openjdk-amd64\"\n",
        "os.environ[\"PATH\"] = os.environ[\"JAVA_HOME\"] + \"/bin:\" + os.environ[\"PATH\"]\n",
        "!java -version\n"
      ],
      "metadata": {
        "id": "5Z4zK9Rx9asg",
        "collapsed": true
      },
      "execution_count": null,
      "outputs": []
    },
    {
      "cell_type": "code",
      "source": [
        "!wget -O \"{tools_dir}/picard.jar\" https://github.com/broadinstitute/picard/releases/download/3.4.0/picard.jar\n",
        "!chmod +x \"{tools_dir}/picard.jar\"\n",
        "!java -jar \"{tools_dir}/picard.jar\""
      ],
      "metadata": {
        "id": "JEsXb1lK5oMR",
        "collapsed": true
      },
      "execution_count": null,
      "outputs": []
    },
    {
      "cell_type": "code",
      "source": [
        "!wget -O \"{tools_dir}/gatk.zip\" https://github.com/broadinstitute/gatk/releases/download/4.5.0.0/gatk-4.5.0.0.zip\n",
        "!unzip \"{tools_dir}/gatk.zip\" -d \"{tools_dir}\"\n",
        "!chmod +x \"{tools_dir}/gatk-4.5.0.0/gatk\"\n",
        "!\"{tools_dir}/gatk-4.5.0.0/gatk\" --list"
      ],
      "metadata": {
        "id": "pMtt0ENQ7CHk",
        "collapsed": true
      },
      "execution_count": null,
      "outputs": []
    },
    {
      "cell_type": "code",
      "source": [
        "!\"{tools_dir}/FastQC/fastqc\" \"{data_dir}/sample/LSP4_279g_S19_L001_R1_001.fastq.gz\" \"{data_dir}/sample/LSP4_279g_S19_L001_R2_001.fastq.gz\" -o \"{data_dir}/outfile\""
      ],
      "metadata": {
        "collapsed": true,
        "id": "SGQBvWHez90P"
      },
      "execution_count": null,
      "outputs": []
    },
    {
      "cell_type": "code",
      "source": [
        "!\"{tools_dir}/fastp/fastp\" -i \"{data_dir}/sample/LSP4_279g_S19_L001_R1_001.fastq.gz\" -I \"{data_dir}/sample/LSP4_279g_S19_L001_R2_001.fastq.gz\" -o \"{data_dir}/sample/normal_R1.fastq.gz\" -O \"{data_dir}/sample/normal_R2.fastq.gz\" -q 20 -u 30 -n 10 -l 50 -h \"{data_dir}/outfile/report_fastp.html\""
      ],
      "metadata": {
        "collapsed": true,
        "id": "2XTTB1Fn2JNi"
      },
      "execution_count": null,
      "outputs": []
    },
    {
      "cell_type": "code",
      "source": [
        "!\"{tools_dir}/bwa.kit/bwa\" mem -t 2 -R '@RG\\tID:L7VN7_1\\tSM:sample19\\tPL:ILLUMINA\\tLB:lib1\\tPU:L7VN7_1' \"{data_dir}/ref/Homo_sapiens_assembly38.fasta\" \"{data_dir}/sample/normal_R1.fastq.gz\" \"{data_dir}/sample/normal_R2.fastq.gz\" | \"{tools_dir}/samtools-1.22/bin/samtools\" view -Shb -o \"{data_dir}/outfile/normal.bam\""
      ],
      "metadata": {
        "collapsed": true,
        "id": "s9NVfxx14Jeu"
      },
      "execution_count": null,
      "outputs": []
    },
    {
      "cell_type": "code",
      "source": [
        "!\"{tools_dir}/samtools-1.22/bin/samtools\" sort -o \"{data_dir}/outfile/normal-sorted.bam\" \"{data_dir}/outfile/normal.bam\"\n",
        "!\"{tools_dir}/samtools-1.22/bin/samtools\" index \"{data_dir}/outfile/normal-sorted.bam\"\n"
      ],
      "metadata": {
        "id": "f9ffmWwxAaDj"
      },
      "execution_count": null,
      "outputs": []
    },
    {
      "cell_type": "code",
      "source": [
        "!java -jar \"{tools_dir}/picard.jar\" MarkDuplicates INPUT=\"{data_dir}/outfile/normal-sorted.bam\" METRICS_FILE=\"{data_dir}/outfile/normal-metrics.txt\" OUTPUT=\"{data_dir}/outfile/normal-dedup.bam\" CREATE_INDEX=true"
      ],
      "metadata": {
        "collapsed": true,
        "id": "g-mqTb2-8yjb"
      },
      "execution_count": null,
      "outputs": []
    },
    {
      "cell_type": "code",
      "source": [
        "!\"{tools_dir}/gatk-4.5.0.0/gatk\" BaseRecalibrator -R \"{data_dir}/ref/Homo_sapiens_assembly38.fasta\" -I \"{data_dir}/outfile/normal-dedup.bam\" --known-sites \"{data_dir}/ref/Homo_sapiens_assembly38.known_indels.vcf.gz\" -O \"{data_dir}/outfile/normal.grp\"\n",
        "!\"{tools_dir}/gatk-4.5.0.0/gatk\" ApplyBQSR -R \"{data_dir}/ref/Homo_sapiens_assembly38.fasta\" -I \"{data_dir}/outfile/normal-dedup.bam\" --bqsr-recal-file \"{data_dir}/outfile/normal.grp\" -O \"{data_dir}/outfile/normal-bqsr.bam\""
      ],
      "metadata": {
        "id": "MmbHalUO_aIe"
      },
      "execution_count": null,
      "outputs": []
    }
  ]
}